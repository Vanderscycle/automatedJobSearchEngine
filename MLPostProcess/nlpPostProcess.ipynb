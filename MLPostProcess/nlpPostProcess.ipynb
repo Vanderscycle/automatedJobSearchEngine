{
 "metadata": {
  "language_info": {
   "codemirror_mode": {
    "name": "ipython",
    "version": 3
   },
   "file_extension": ".py",
   "mimetype": "text/x-python",
   "name": "python",
   "nbconvert_exporter": "python",
   "pygments_lexer": "ipython3",
   "version": "3.8.5-final"
  },
  "orig_nbformat": 2,
  "kernelspec": {
   "name": "python38564bitnnscrapercondaa354d8fb32614818906b42d96b0e4fbd",
   "display_name": "Python 3.8.5 64-bit ('NNScraper': conda)",
   "language": "python"
  }
 },
 "nbformat": 4,
 "nbformat_minor": 2,
 "cells": [
  {
   "cell_type": "code",
   "execution_count": 1,
   "metadata": {},
   "outputs": [],
   "source": [
    "# access passwords\n",
    "import os\n",
    "from dotenv import load_dotenv\n",
    "# data processing\n",
    "import pandas as pd\n",
    "import numpy as np\n",
    "# accessing the db\n",
    "import pymongo"
   ]
  },
  {
   "cell_type": "code",
   "execution_count": 2,
   "metadata": {},
   "outputs": [],
   "source": [
    "load_dotenv()\n",
    "MONGO_IP = os.getenv('MONGO_IP')\n",
    "MONGO_PORT = int(os.getenv('MONGO_PORT'))\n",
    "MONGO_DATABASE = os.getenv('MONGO_DATABASE')\n",
    "MONGO_COLLECTION = 'stackOverflow'"
   ]
  },
  {
   "cell_type": "code",
   "execution_count": 3,
   "metadata": {},
   "outputs": [],
   "source": [
    "# taken from\n",
    "#https://stackoverflow.com/questions/16249736/how-to-import-data-from-mongodb-to-pandas\n",
    "def _connect_mongo(host, port, db=None, username=None, password=None):\n",
    "    \"\"\" A util for making a connection to mongo \"\"\"\n",
    "\n",
    "    if username and password:\n",
    "        mongo_uri = 'mongodb://%s:%s@%s:%s/%s' % (username, password, host, port, db)\n",
    "        conn = pymongo.MongoClient(mongo_uri)\n",
    "    else:\n",
    "        conn = pymongo.MongoClient(host, port)\n",
    "\n",
    "    return conn\n",
    "\n",
    "\n",
    "def read_mongo(db, collection, query={}, host='localhost', port=27017, username=None, password=None, no_id=False):\n",
    "    \"\"\" Read from Mongo and Store into DataFrame \"\"\"\n",
    "\n",
    "    # Connect to MongoDB\n",
    "    conn = _connect_mongo(host=host, port=port, username=username, password=password, db=db)\n",
    "    db = conn[db]\n",
    "    # Make a query to the specific DB and Collection\n",
    "    cursor = db[collection].find(query)\n",
    "\n",
    "    # Expand the cursor and construct the DataFrame\n",
    "    df =  pd.DataFrame(iter(cursor))\n",
    "\n",
    "    # Delete the _id\n",
    "    if no_id and '_id' in df:\n",
    "        del df['_id']\n",
    "\n",
    "    return df\n",
    "\n",
    "def update_mongo(db, collection,df, host='localhost', port=27017, username=None, password=None, no_id=False):\n",
    "    \"\"\" Read from Mongo and Store into DataFrame \"\"\"\n",
    "\n",
    "    # Connect to MongoDB\n",
    "    conn = _connect_mongo(host=host, port=port, username=username, password=password, db=db)\n",
    "    db = conn[db]\n",
    "    # Make a query to the specific DB and Collection\n",
    "    updates = []\n",
    "\n",
    "    for _, row in df.iterrows():\n",
    "        updates.append(pymongo.UpdateOne({'_id': row.get('_id')}, {'$set': {'cleanedDescription': row.get('description')}}, upsert=True))\n",
    "\n",
    "    db[collection].bulk_write(updates)"
   ]
  },
  {
   "cell_type": "code",
   "execution_count": 4,
   "metadata": {},
   "outputs": [],
   "source": [
    "query = {\"site\": \"StackOverflow\"}"
   ]
  },
  {
   "cell_type": "code",
   "execution_count": 5,
   "metadata": {},
   "outputs": [],
   "source": [
    "df = read_mongo(MONGO_DATABASE,MONGO_COLLECTION,query)"
   ]
  },
  {
   "cell_type": "code",
   "execution_count": 6,
   "metadata": {},
   "outputs": [
    {
     "output_type": "execute_result",
     "data": {
      "text/plain": [
       "                        _id  \\\n",
       "0  60272fa3db6b8ba99ea7e747   \n",
       "1  60272fa5db6b8ba99ea7e748   \n",
       "2  60272fa6db6b8ba99ea7e749   \n",
       "3  60272fa6db6b8ba99ea7e74a   \n",
       "4  60272fa6db6b8ba99ea7e74b   \n",
       "\n",
       "                                        positionName           site  remote  \\\n",
       "0                Software Engineer, Backend (Remote)  StackOverflow    True   \n",
       "1                      Software Engineer, Full Stack  StackOverflow    True   \n",
       "2                       Full-Stack Software Engineer  StackOverflow    True   \n",
       "3                           Python Software Engineer  StackOverflow    True   \n",
       "4  React Native Engineer at sustainable mobility ...  StackOverflow   False   \n",
       "\n",
       "            postedWhen                company  \\\n",
       "0    Posted 3 days ago           Stafford, TX   \n",
       "1    Posted 4 days ago  Vancouver, BC, Canada   \n",
       "2   Posted 14 days ago               Hays, KS   \n",
       "3  Posted < 1 hour ago           New York, NY   \n",
       "4    Posted 3 days ago   München, Deutschland   \n",
       "\n",
       "                                                 url  \\\n",
       "0  https://stackoverflow.com/jobs/500477/software...   \n",
       "1  https://stackoverflow.com/jobs/500205/software...   \n",
       "2  https://stackoverflow.com/jobs/471179/full-sta...   \n",
       "3  https://stackoverflow.com/jobs/502021/python-s...   \n",
       "4  https://stackoverflow.com/jobs/485085/react-na...   \n",
       "\n",
       "                                            location  \\\n",
       "0                                      Stafford, TX.   \n",
       "1  On-site by default, exceptions based on indivi...   \n",
       "2               (GMT-06:00) Central Time +/- 2 hours   \n",
       "3                                      New York, NY.   \n",
       "4                                               None   \n",
       "\n",
       "                                         description  applied            time  \\\n",
       "0  [['\\r\\nHims and Hers is seeking a Software Eng...    False  02/12/2021, 17   \n",
       "1  [[\"\\r\\nOur customers rely on Alloy for tasks r...    False  02/12/2021, 17   \n",
       "2  [['\\r\\nThis position will contribute to a prod...    False  02/12/2021, 17   \n",
       "3  [['\\r\\nWe are looking for a humble positive so...    False  02/12/2021, 17   \n",
       "4  [[\"\\r\\nJoin finn.auto to make car ownership fu...    False  02/12/2021, 17   \n",
       "\n",
       "                                  cleanedDescription  \n",
       "0  [['\\r\\nHims and Hers is seeking a Software Eng...  \n",
       "1  [[\"\\r\\nOur customers rely on Alloy for tasks r...  \n",
       "2  [['\\r\\nThis position will contribute to a prod...  \n",
       "3  [['\\r\\nWe are looking for a humble positive so...  \n",
       "4  [[\"\\r\\nJoin finn.auto to make car ownership fu...  "
      ],
      "text/html": "<div>\n<style scoped>\n    .dataframe tbody tr th:only-of-type {\n        vertical-align: middle;\n    }\n\n    .dataframe tbody tr th {\n        vertical-align: top;\n    }\n\n    .dataframe thead th {\n        text-align: right;\n    }\n</style>\n<table border=\"1\" class=\"dataframe\">\n  <thead>\n    <tr style=\"text-align: right;\">\n      <th></th>\n      <th>_id</th>\n      <th>positionName</th>\n      <th>site</th>\n      <th>remote</th>\n      <th>postedWhen</th>\n      <th>company</th>\n      <th>url</th>\n      <th>location</th>\n      <th>description</th>\n      <th>applied</th>\n      <th>time</th>\n      <th>cleanedDescription</th>\n    </tr>\n  </thead>\n  <tbody>\n    <tr>\n      <th>0</th>\n      <td>60272fa3db6b8ba99ea7e747</td>\n      <td>Software Engineer, Backend (Remote)</td>\n      <td>StackOverflow</td>\n      <td>True</td>\n      <td>Posted 3 days ago</td>\n      <td>Stafford, TX</td>\n      <td>https://stackoverflow.com/jobs/500477/software...</td>\n      <td>Stafford, TX.</td>\n      <td>[['\\r\\nHims and Hers is seeking a Software Eng...</td>\n      <td>False</td>\n      <td>02/12/2021, 17</td>\n      <td>[['\\r\\nHims and Hers is seeking a Software Eng...</td>\n    </tr>\n    <tr>\n      <th>1</th>\n      <td>60272fa5db6b8ba99ea7e748</td>\n      <td>Software Engineer, Full Stack</td>\n      <td>StackOverflow</td>\n      <td>True</td>\n      <td>Posted 4 days ago</td>\n      <td>Vancouver, BC, Canada</td>\n      <td>https://stackoverflow.com/jobs/500205/software...</td>\n      <td>On-site by default, exceptions based on indivi...</td>\n      <td>[[\"\\r\\nOur customers rely on Alloy for tasks r...</td>\n      <td>False</td>\n      <td>02/12/2021, 17</td>\n      <td>[[\"\\r\\nOur customers rely on Alloy for tasks r...</td>\n    </tr>\n    <tr>\n      <th>2</th>\n      <td>60272fa6db6b8ba99ea7e749</td>\n      <td>Full-Stack Software Engineer</td>\n      <td>StackOverflow</td>\n      <td>True</td>\n      <td>Posted 14 days ago</td>\n      <td>Hays, KS</td>\n      <td>https://stackoverflow.com/jobs/471179/full-sta...</td>\n      <td>(GMT-06:00) Central Time +/- 2 hours</td>\n      <td>[['\\r\\nThis position will contribute to a prod...</td>\n      <td>False</td>\n      <td>02/12/2021, 17</td>\n      <td>[['\\r\\nThis position will contribute to a prod...</td>\n    </tr>\n    <tr>\n      <th>3</th>\n      <td>60272fa6db6b8ba99ea7e74a</td>\n      <td>Python Software Engineer</td>\n      <td>StackOverflow</td>\n      <td>True</td>\n      <td>Posted &lt; 1 hour ago</td>\n      <td>New York, NY</td>\n      <td>https://stackoverflow.com/jobs/502021/python-s...</td>\n      <td>New York, NY.</td>\n      <td>[['\\r\\nWe are looking for a humble positive so...</td>\n      <td>False</td>\n      <td>02/12/2021, 17</td>\n      <td>[['\\r\\nWe are looking for a humble positive so...</td>\n    </tr>\n    <tr>\n      <th>4</th>\n      <td>60272fa6db6b8ba99ea7e74b</td>\n      <td>React Native Engineer at sustainable mobility ...</td>\n      <td>StackOverflow</td>\n      <td>False</td>\n      <td>Posted 3 days ago</td>\n      <td>München, Deutschland</td>\n      <td>https://stackoverflow.com/jobs/485085/react-na...</td>\n      <td>None</td>\n      <td>[[\"\\r\\nJoin finn.auto to make car ownership fu...</td>\n      <td>False</td>\n      <td>02/12/2021, 17</td>\n      <td>[[\"\\r\\nJoin finn.auto to make car ownership fu...</td>\n    </tr>\n  </tbody>\n</table>\n</div>"
     },
     "metadata": {},
     "execution_count": 6
    }
   ],
   "source": [
    "df.head()"
   ]
  },
  {
   "cell_type": "code",
   "execution_count": 7,
   "metadata": {},
   "outputs": [
    {
     "output_type": "execute_result",
     "data": {
      "text/plain": [
       "[\"['\\\\r\\\\nHims and Hers is seeking a Software Engineer to help build a fast, reliable, and frictionless telemedicine experience.\\\\nResponsibilities:\\\\xa0\\\\n\\\\nBuild backend services that power our telehealth platform.\\\\nBrainstorm features with product managers and designers and guide decisions based on your knowledge of the codebase.\\\\nReview code and have your code reviewed.\\\\nMentor and be mentored by other engineers.\\\\nActively participate in retrospectives and help drive continuous improvement in our process and culture\\\\n            ']\",\n",
       " \"['\\\\r\\\\nYou may be a good fit if you...\\\\xa0\\\\n\\\\nHave 2+ years as a software engineer, shipping production code.\\\\nAre proficient at writing distributed services using Java, Kotlin, and/or PostgreSQL.\\\\n\\\\nWe are focused on building a diverse and inclusive workforce. If you’re excited about this role, but do not meet 100% of the qualifications listed above, we encourage you to apply.\\\\nHims is an Equal Opportunity Employer and considers applicants for employment without regard to race, color, religion, sex, orientation, national origin, age, disability, genetics or any other basis forbidden under federal, state, or local law. Hims considers all qualified applicants in accordance with the San Francisco Fair Chance Ordinance                ']\"]"
      ]
     },
     "metadata": {},
     "execution_count": 7
    }
   ],
   "source": [
    "df['description'][0]"
   ]
  },
  {
   "cell_type": "code",
   "execution_count": 8,
   "metadata": {},
   "outputs": [],
   "source": [
    "from collections import Counter\n",
    "import string\n",
    "from nltk.tokenize import word_tokenize\n",
    "from nltk.corpus import stopwords\n",
    "import re"
   ]
  },
  {
   "cell_type": "code",
   "execution_count": 9,
   "metadata": {},
   "outputs": [],
   "source": [
    "def htmlGarbageDeleter(text):\n",
    "    \"\"\" regex to delete pesky \\r \\n\"\"\"\n",
    "    regex =r'(\\\\r).*(\\\\n)|(\\\\xa0)' \n",
    "    words = text.lower().split()\n",
    "    cleanText = [re.sub(regex, '', w) for w in words]\n",
    "    return ' '.join(cleanText)"
   ]
  },
  {
   "cell_type": "code",
   "execution_count": 10,
   "metadata": {},
   "outputs": [],
   "source": [
    "def nltkPreprocess(text):\n",
    "    # yeah it's not very good because the [] gets captured but since they are later captured by string.punctuation there's no harm\n",
    "    text = htmlGarbageDeleter(text)\n",
    "    # lower\n",
    "    words = text.lower().split()\n",
    "    # remove punctiuation\n",
    "    table = str.maketrans('', '', string.punctuation)\n",
    "    stripped = [w.translate(table) for w in words]\n",
    "    #remove stopwords\n",
    "    stop_words = set(stopwords.words('english'))\n",
    "    clean = [w for w in stripped if not w in stop_words if w!='' and w.isnumeric()==False and len(w) >2] #len >2 to filter garbage\n",
    "    # we concatenate all list elements\n",
    "    return ' '.join(clean)"
   ]
  },
  {
   "cell_type": "code",
   "execution_count": 11,
   "metadata": {},
   "outputs": [
    {
     "output_type": "execute_result",
     "data": {
      "text/plain": [
       "'!\"#$%&\\'()*+,-./:;<=>?@[\\\\]^_`{|}~'"
      ]
     },
     "metadata": {},
     "execution_count": 11
    }
   ],
   "source": [
    "string.punctuation"
   ]
  },
  {
   "cell_type": "code",
   "execution_count": 12,
   "metadata": {},
   "outputs": [],
   "source": [
    "df['description'] = df['description'].apply(lambda x:nltkPreprocess(str(x)))"
   ]
  },
  {
   "cell_type": "code",
   "execution_count": 13,
   "metadata": {},
   "outputs": [
    {
     "output_type": "execute_result",
     "data": {
      "text/plain": [
       "'position contribute product wide growing range features we’re looking someone passionate learning energized prospect working earlystage startupour codebase primarily javascript reactredux frontend nodejs api small team agile flexible we’re interested people contribute multiple platforms process tremendous amount financial data million records average workday utilize variety backend technologies accomplish thisat unhedged expect tocontribute clean scalable spa using react modern build toolchaindesign deliver fullfeatured mobile application using react nativedevelop maintain backend processes using node api well various supporting databases services interfacessolve challenging problems involving huge quantities data tremendous throughputgain exposure wide range frontend backend technologies supporting demanding particular customer base2 years professional javascript experience required knowledge react native redux kubernetes testing frameworks cypress plus'"
      ]
     },
     "metadata": {},
     "execution_count": 13
    }
   ],
   "source": [
    "df['description'][2]"
   ]
  },
  {
   "cell_type": "code",
   "execution_count": 17,
   "metadata": {},
   "outputs": [],
   "source": [
    "update_mongo(MONGO_DATABASE,MONGO_COLLECTION,df)"
   ]
  },
  {
   "cell_type": "code",
   "execution_count": 15,
   "metadata": {},
   "outputs": [],
   "source": [
    "def test(text):\n",
    "    \"\"\"haven't found a better name for the function yet\"\"\"\n",
    "    tokens = [t for t in text.split()]\n",
    "    freq = nltk.FreqDist(tokens)\n",
    "    # for key,val in freq.items():\n",
    "    #     print(str(key) + ':' + str(val))\n",
    "    freq.plot(20, cumulative=False)"
   ]
  }
 ]
}