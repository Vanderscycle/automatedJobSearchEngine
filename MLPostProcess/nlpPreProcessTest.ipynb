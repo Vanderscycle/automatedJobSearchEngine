{
 "metadata": {
  "language_info": {
   "codemirror_mode": {
    "name": "ipython",
    "version": 3
   },
   "file_extension": ".py",
   "mimetype": "text/x-python",
   "name": "python",
   "nbconvert_exporter": "python",
   "pygments_lexer": "ipython3",
   "version": "3.8.5-final"
  },
  "orig_nbformat": 2,
  "kernelspec": {
   "name": "python38564bitnnscrapercondaa354d8fb32614818906b42d96b0e4fbd",
   "display_name": "Python 3.8.5 64-bit ('NNScraper': conda)",
   "language": "python"
  }
 },
 "nbformat": 4,
 "nbformat_minor": 2,
 "cells": [
  {
   "source": [
    "usefull ressources:\n",
    "- [Post Processing](https://towardsdatascience.com/how-to-use-nlp-to-find-a-tech-job-and-win-a-hackathon-7aa270ec608d)"
   ],
   "cell_type": "markdown",
   "metadata": {}
  },
  {
   "source": [
    "## Pre-processing"
   ],
   "cell_type": "markdown",
   "metadata": {}
  },
  {
   "cell_type": "code",
   "execution_count": 1,
   "metadata": {},
   "outputs": [],
   "source": [
    "sampleTitles = ['Hackers wanted-Looking for a Senior Developer (m/f/d) with Team Lead Experience!',\n",
    " 'Lead/Principal Software Engineer - NodeJS / TypeScript - 100% remote',\n",
    " 'Senior Backend Developer',\n",
    " 'Senior Full-Stack Developer Javascript (m/f/d)',\n",
    " 'React Native Engineer at sustainable mobility Start-up (m/f/x)',\n",
    " 'Hackers wanted-Looking for a Senior Developer (m/f/d) with Team Lead Experience!',\n",
    " 'Software Engineer, Backend (Remote)',\n",
    " 'Senior Software Engineer, Backend (Remote)',\n",
    " '(Senior) Backend Engineer at sustainable mobility Start-up (m/f/x)',\n",
    " 'Backend developer',\n",
    " 'Backend developer',\n",
    " 'Frontend Web Developer (m/w/d)',\n",
    " 'Backend Software Architect',\n",
    " '(Senior) Frontend Engineer at sustainable mobility Start-up (m/f/x)',\n",
    " 'Full Stack Developer',\n",
    " 'Lead/Principal Data Engineer - Python - 100% remote',\n",
    " \"Senior Backend Developer - We're motivated to code with a sense of purpose\",\n",
    " '(Senior) Software Engineer (m/f/d)',\n",
    " 'Software Engineer (Full Stack) - Video Engineering',\n",
    " 'Full-Stack Software Engineer',\n",
    " 'Senior Fullstack Software Engineer (f/m) 80-100%',\n",
    " 'Software Engineer, Full Stack',\n",
    " 'Principal Engineer',\n",
    " 'front end dev',\n",
    " 'IOS developer',\n",
    " 'PHP super duper cool Software dev Engineer',\n",
    " 'Senior JAVA Backend Engineer',\n",
    " '(Senior) Backend Software Engineer (Node.js) (m/f/d)']"
   ]
  },
  {
   "cell_type": "code",
   "execution_count": 2,
   "metadata": {},
   "outputs": [],
   "source": [
    "from nltk.corpus import stopwords\n",
    "import string"
   ]
  },
  {
   "cell_type": "code",
   "execution_count": 3,
   "metadata": {},
   "outputs": [],
   "source": [
    "unwantedWordsSet = {'senior','frontend','lead','manager','java','lead','android','web','ios','php','unity','javascript','typescript'} #essentially I am looking for a junior dev job"
   ]
  },
  {
   "cell_type": "code",
   "execution_count": 4,
   "metadata": {},
   "outputs": [
    {
     "output_type": "execute_result",
     "data": {
      "text/plain": [
       "{'frontend',\n",
       " 'intermediate',\n",
       " 'ios',\n",
       " 'javascript',\n",
       " 'lead',\n",
       " 'manager',\n",
       " 'php',\n",
       " 'senior',\n",
       " 'typescript',\n",
       " 'unity',\n",
       " 'web'}"
      ]
     },
     "metadata": {},
     "execution_count": 4
    }
   ],
   "source": [
    "languages = ['ios','php','unity','javascript','typescript']\n",
    "jobTitles = ['senior','frontend','lead','manager','lead','intermediate','web']\n",
    "set(languages + jobTitles)"
   ]
  },
  {
   "cell_type": "code",
   "execution_count": 5,
   "metadata": {},
   "outputs": [],
   "source": [
    "if set('seni engineer'.split()) & unwantedWordsSet:\n",
    "    print('garbage')"
   ]
  },
  {
   "cell_type": "code",
   "execution_count": 6,
   "metadata": {},
   "outputs": [],
   "source": [
    "def nltkPorterStemmer(text):\n",
    "    stemmer = PorterStemmer()\n",
    "    return [stemmer.stem(word) for word in text] "
   ]
  },
  {
   "cell_type": "code",
   "execution_count": 7,
   "metadata": {},
   "outputs": [],
   "source": [
    "def nltkPreprocess(text):\n",
    "    # lower\n",
    "    words = text.lower().split()\n",
    "    # remove punctiuation\n",
    "    table = str.maketrans('', '', string.punctuation)\n",
    "    stripped = [w.translate(table) for w in words]\n",
    "    #remove stopwords\n",
    "    stop_words = set(stopwords.words('english'))\n",
    "    clean = [w for w in stripped if not w in stop_words if w!='' and w.isnumeric()==False and len(w) >2] #len >3 to filter garbage\n",
    "    if set(clean) & unwantedWordsSet:\n",
    "        print('garbage')\n",
    "        return      \n",
    "    return clean"
   ]
  },
  {
   "cell_type": "code",
   "execution_count": 8,
   "metadata": {},
   "outputs": [
    {
     "output_type": "stream",
     "name": "stdout",
     "text": [
      "Help on built-in function maketrans:\n\nmaketrans(...)\n    Return a translation table usable for str.translate().\n    \n    If there is only one argument, it must be a dictionary mapping Unicode\n    ordinals (integers) or characters to Unicode ordinals, strings or None.\n    Character keys will be then converted to ordinals.\n    If there are two arguments, they must be strings of equal length, and\n    in the resulting dictionary, each character in x will be mapped to the\n    character at the same position in y. If there is a third argument, it\n    must be a string, whose characters will be mapped to None in the result.\n\n"
     ]
    }
   ],
   "source": [
    "help(str.maketrans)"
   ]
  },
  {
   "cell_type": "code",
   "execution_count": 9,
   "metadata": {},
   "outputs": [],
   "source": [
    "# def "
   ]
  },
  {
   "cell_type": "code",
   "execution_count": 10,
   "metadata": {},
   "outputs": [
    {
     "output_type": "stream",
     "name": "stdout",
     "text": [
      "garbage\ngarbage\ngarbage\ngarbage\ngarbage\ngarbage\ngarbage\ngarbage\ngarbage\ngarbage\ngarbage\ngarbage\ngarbage\ngarbage\ngarbage\ngarbage\n"
     ]
    }
   ],
   "source": [
    "for i in range(len(sampleTitles)):\n",
    "    sampleTitles[i] = nltkPreprocess(sampleTitles[i])\n",
    "    #sampleTitles[i] = sampleTitles[i].split()"
   ]
  },
  {
   "cell_type": "code",
   "execution_count": 11,
   "metadata": {},
   "outputs": [
    {
     "output_type": "execute_result",
     "data": {
      "text/plain": [
       "[None,\n",
       " None,\n",
       " None,\n",
       " None,\n",
       " ['react', 'native', 'engineer', 'sustainable', 'mobility', 'startup', 'mfx'],\n",
       " None,\n",
       " ['software', 'engineer', 'backend', 'remote'],\n",
       " None,\n",
       " None,\n",
       " ['backend', 'developer'],\n",
       " ['backend', 'developer'],\n",
       " None,\n",
       " ['backend', 'software', 'architect'],\n",
       " None,\n",
       " ['full', 'stack', 'developer'],\n",
       " ['leadprincipal', 'data', 'engineer', 'python', 'remote'],\n",
       " None,\n",
       " None,\n",
       " ['software', 'engineer', 'full', 'stack', 'video', 'engineering'],\n",
       " ['fullstack', 'software', 'engineer'],\n",
       " None,\n",
       " ['software', 'engineer', 'full', 'stack'],\n",
       " ['principal', 'engineer'],\n",
       " ['front', 'end', 'dev'],\n",
       " None,\n",
       " None,\n",
       " None,\n",
       " None]"
      ]
     },
     "metadata": {},
     "execution_count": 11
    }
   ],
   "source": [
    "sampleTitles"
   ]
  },
  {
   "cell_type": "code",
   "execution_count": 12,
   "metadata": {},
   "outputs": [],
   "source": [
    "from bs4 import BeautifulSoup"
   ]
  },
  {
   "cell_type": "code",
   "execution_count": 14,
   "metadata": {},
   "outputs": [],
   "source": [
    "data ='<div id=\"overview-items\" class=\"nav-content\">\\r\\n        <ul class=\"horizontal-list horizontal-list__lg fs-body1 fc-black-500 ai-baseline mb24\">\\r\\n                <li><svg aria-hidden=\"true\" class=\"svg-icon iconClock\" width=\"18\" height=\"18\" viewbox=\"0 0 18 18\"><path d=\"M9 17A8 8 0 119 1a8 8 0 010 16zm0-2A6 6 0 109 3a6 6 0 000 12zM8 5h1.01L9 9.36l3.22 2.1-.6.93L8 10V5z\"></path></svg> Posted 2 days ago</li>\\r\\n                    </ul>\\r\\n           \\r\\n\\r\\n            <section class=\"mb32\">\\r\\n                <h2 class=\"fs-subheading mb16 fc-dark\">About this job</h2>\\r\\n                <div class=\"grid job-details--about gs16 gsx sm:fd-column fs-body2 fc-medium\">\\r\\n                        <div class=\"grid--cell6\">\\r\\n                                <div class=\"mb8\">\\r\\n                                    <span>Job type: </span>\\r\\n                                    <span class=\"fw-bold\">Full-time</span>\\r\\n                                </div>\\r\\n                                <div class=\"mb8\">\\r\\n                                    <span>Role: </span>\\r\\n                                    <span class=\"fw-bold\">Backend Developer</span>\\r\\n                                </div>\\r\\n                        </div>\\r\\n                </div>\\r\\n            </section>\\r\\n\\r\\n            <section class=\"mb32\">\\r\\n                <h2 class=\"fs-subheading mb16 fc-dark\">Remote details</h2>\\r\\n                <div class=\"grid job-details--about gs16 gsx sm:fd-column fs-body2 fc-medium\">\\r\\n                    <div class=\"ml8 mr8\">\\r\\n                                                                            <div class=\"mb8\">\\r\\n                                <span>Office Location:</span>\\r\\n                                <span class=\"fw-bold\">Stafford, TX.</span>\\r\\n                                    <span class=\"fs-caption\">Employees can also work full time from this office.</span>\\r\\n                            </div>\\r\\n                                                                    </div>\\r\\n                </div>\\r\\n            </section>\\r\\n\\r\\n            <section class=\"mb32\">\\r\\n                <h2 class=\"fs-subheading mb16 fc-dark\">Technologies</h2>\\r\\n                <div>\\r\\n                    <a href=\"/jobs/developer-jobs-using-java?id=500477\" class=\"post-tag no-tag-menu\">java</a><a href=\"/jobs/developer-jobs-using-kotlin?id=500477\" class=\"post-tag no-tag-menu\">kotlin</a><a href=\"/jobs/developer-jobs-using-postgresql?id=500477\" class=\"post-tag no-tag-menu\">postgresql</a>\\r\\n                </div>\\r\\n            </section>\\r\\n\\r\\n        <section class=\"mb32 fs-body2 fc-medium\">\\r\\n            <h2 class=\"fs-subheading mb16 fc-dark\">Job description</h2>\\r\\n            <div>\\r\\n<p>Hims and Hers is seeking a Software Engineer to help build a fast, reliable, and frictionless telemedicine experience.</p>\\n<p><strong>Responsibilities:\\xa0</strong></p>\\n<ul>\\n<li>Build backend services that power our telehealth platform.</li>\\n<li>Brainstorm features with product managers and designers and guide decisions based on your knowledge of the codebase.</li>\\n<li>Review code and have your code reviewed.</li>\\n<li>Mentor and be mentored by other engineers.</li>\\n<li>Actively participate in retrospectives and help drive continuous improvement in our process and culture</li>\\n</ul>            </div>\\r\\n        </section>\\r\\n\\r\\n            <section class=\"mb32 fs-body2 fc-medium\">\\r\\n                <h2 class=\"fs-subheading mb16 fc-dark\">Skills &amp; requirements</h2>\\r\\n                <div>\\r\\n<p><strong>You may be a good fit if you...\\xa0</strong></p>\\n<ul>\\n<li>Have 2+ years as a software engineer, shipping production code.</li>\\n<li>Are proficient at writing distributed services using Java, Kotlin, and/or PostgreSQL.</li>\\n</ul>\\n<p><em>We are focused on building a diverse and inclusive workforce. If you’re excited about this role, but do not meet 100% of the qualifications listed above, we encourage you to apply.</em></p>\\n<p><em>Hims is an Equal Opportunity Employer and considers applicants for employment without regard to race, color, religion, sex, orientation, national origin, age, disability, genetics or any other basis forbidden under federal, state, or local law. Hims considers all qualified applicants in accordance with the San Francisco Fair Chance Ordinance</em></p>                </div>\\r\\n            </section>\\r\\n\\r\\n\\r\\n    </div>'"
   ]
  },
  {
   "cell_type": "code",
   "execution_count": 15,
   "metadata": {},
   "outputs": [],
   "source": [
    "soup = BeautifulSoup(data)"
   ]
  },
  {
   "cell_type": "code",
   "execution_count": 21,
   "metadata": {},
   "outputs": [
    {
     "output_type": "execute_result",
     "data": {
      "text/plain": [
       "<li><svg aria-hidden=\"true\" class=\"svg-icon iconClock\" height=\"18\" viewbox=\"0 0 18 18\" width=\"18\"><path d=\"M9 17A8 8 0 119 1a8 8 0 010 16zm0-2A6 6 0 109 3a6 6 0 000 12zM8 5h1.01L9 9.36l3.22 2.1-.6.93L8 10V5z\"></path></svg> Posted 2 days ago</li>"
      ]
     },
     "metadata": {},
     "execution_count": 21
    }
   ],
   "source": [
    "soup.li"
   ]
  },
  {
   "cell_type": "code",
   "execution_count": null,
   "metadata": {},
   "outputs": [],
   "source": []
  }
 ]
}