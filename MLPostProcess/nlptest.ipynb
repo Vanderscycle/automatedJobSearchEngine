{
 "metadata": {
  "language_info": {
   "codemirror_mode": {
    "name": "ipython",
    "version": 3
   },
   "file_extension": ".py",
   "mimetype": "text/x-python",
   "name": "python",
   "nbconvert_exporter": "python",
   "pygments_lexer": "ipython3",
   "version": 3
  },
  "orig_nbformat": 2
 },
 "nbformat": 4,
 "nbformat_minor": 2,
 "cells": [
  {
   "cell_type": "code",
   "execution_count": null,
   "metadata": {},
   "outputs": [],
   "source": [
    "sampleTitles = ['Hackers wanted-Looking for a Senior Developer (m/f/d) with Team Lead Experience!',\n",
    " 'Lead/Principal Software Engineer - NodeJS / TypeScript - 100% remote',\n",
    " 'Senior Backend Developer',\n",
    " 'Senior Full-Stack Developer Javascript (m/f/d)',\n",
    " 'React Native Engineer at sustainable mobility Start-up (m/f/x)',\n",
    " 'Hackers wanted-Looking for a Senior Developer (m/f/d) with Team Lead Experience!',\n",
    " 'Software Engineer, Backend (Remote)',\n",
    " 'Senior Software Engineer, Backend (Remote)',\n",
    " '(Senior) Backend Engineer at sustainable mobility Start-up (m/f/x)',\n",
    " 'Backend developer',\n",
    " 'Backend developer',\n",
    " 'Frontend Web Developer (m/w/d)',\n",
    " 'Backend Software Architect',\n",
    " '(Senior) Frontend Engineer at sustainable mobility Start-up (m/f/x)',\n",
    " 'Full Stack Developer',\n",
    " 'Lead/Principal Data Engineer - Python - 100% remote',\n",
    " \"Senior Backend Developer - We're motivated to code with a sense of purpose\",\n",
    " '(Senior) Software Engineer (m/f/d)',\n",
    " 'Software Engineer (Full Stack) - Video Engineering',\n",
    " 'Full-Stack Software Engineer',\n",
    " 'Senior Fullstack Software Engineer (f/m) 80-100%',\n",
    " 'Software Engineer, Full Stack',\n",
    " 'Principal Engineer',\n",
    " 'Senior JAVA Backend Engineer',\n",
    " '(Senior) Backend Software Engineer (Node.js) (m/f/d)']"
   ]
  }
 ]
}